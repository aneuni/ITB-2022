{
  "nbformat": 4,
  "nbformat_minor": 0,
  "metadata": {
    "colab": {
      "provenance": [],
      "collapsed_sections": [],
      "authorship_tag": "ABX9TyN12BqaAHw5+1XVfvLSsFdY",
      "include_colab_link": true
    },
    "kernelspec": {
      "name": "python3",
      "display_name": "Python 3"
    },
    "language_info": {
      "name": "python"
    }
  },
  "cells": [
    {
      "cell_type": "markdown",
      "metadata": {
        "id": "view-in-github",
        "colab_type": "text"
      },
      "source": [
        "<a href=\"https://colab.research.google.com/github/aneuni/ITB-2022/blob/main/IT%EC%99%80%EB%B9%84%EC%A6%88%EB%8B%88%EC%8A%A4%ED%98%81%EC%8B%A0_%EC%8B%9C%EA%B0%81%ED%99%94_%EA%B3%BC%EC%A0%9C_1914838_%EC%95%88%EC%9D%80%EC%9D%B4.ipynb\" target=\"_parent\"><img src=\"https://colab.research.google.com/assets/colab-badge.svg\" alt=\"Open In Colab\"/></a>"
      ]
    },
    {
      "cell_type": "markdown",
      "source": [
        "#기본 과정 & 전처리"
      ],
      "metadata": {
        "id": "_y24BbRtFjzE"
      }
    },
    {
      "cell_type": "code",
      "source": [
        "!sudo apt-get install -y fonts-nanum\n",
        "!sudo fc-cache -fv\n",
        "!rm ~/.cache/matplotlib -rf"
      ],
      "metadata": {
        "colab": {
          "base_uri": "https://localhost:8080/"
        },
        "id": "8xPseXrpxfLW",
        "outputId": "a7a745e6-8130-4c2a-d6c1-9f92171af5c3"
      },
      "execution_count": 1,
      "outputs": [
        {
          "output_type": "stream",
          "name": "stdout",
          "text": [
            "Reading package lists... Done\n",
            "Building dependency tree       \n",
            "Reading state information... Done\n",
            "fonts-nanum is already the newest version (20170925-1).\n",
            "The following package was automatically installed and is no longer required:\n",
            "  libnvidia-common-460\n",
            "Use 'sudo apt autoremove' to remove it.\n",
            "0 upgraded, 0 newly installed, 0 to remove and 29 not upgraded.\n",
            "/usr/share/fonts: caching, new cache contents: 0 fonts, 1 dirs\n",
            "/usr/share/fonts/truetype: caching, new cache contents: 0 fonts, 3 dirs\n",
            "/usr/share/fonts/truetype/humor-sans: caching, new cache contents: 1 fonts, 0 dirs\n",
            "/usr/share/fonts/truetype/liberation: caching, new cache contents: 16 fonts, 0 dirs\n",
            "/usr/share/fonts/truetype/nanum: caching, new cache contents: 10 fonts, 0 dirs\n",
            "/usr/local/share/fonts: caching, new cache contents: 0 fonts, 0 dirs\n",
            "/root/.local/share/fonts: skipping, no such directory\n",
            "/root/.fonts: skipping, no such directory\n",
            "/var/cache/fontconfig: cleaning cache directory\n",
            "/root/.cache/fontconfig: not cleaning non-existent cache directory\n",
            "/root/.fontconfig: not cleaning non-existent cache directory\n",
            "fc-cache: succeeded\n"
          ]
        }
      ]
    },
    {
      "cell_type": "code",
      "execution_count": 2,
      "metadata": {
        "colab": {
          "base_uri": "https://localhost:8080/"
        },
        "id": "ydX9zfjnFEuQ",
        "outputId": "6a3bf4e3-802f-4fcb-9f22-06868cc54bb3"
      },
      "outputs": [
        {
          "output_type": "stream",
          "name": "stdout",
          "text": [
            "Reading package lists... Done\n",
            "Building dependency tree       \n",
            "Reading state information... Done\n",
            "fonts-nanum is already the newest version (20170925-1).\n",
            "The following package was automatically installed and is no longer required:\n",
            "  libnvidia-common-460\n",
            "Use 'sudo apt autoremove' to remove it.\n",
            "0 upgraded, 0 newly installed, 0 to remove and 29 not upgraded.\n",
            "/usr/share/fonts: caching, new cache contents: 0 fonts, 1 dirs\n",
            "/usr/share/fonts/truetype: caching, new cache contents: 0 fonts, 3 dirs\n",
            "/usr/share/fonts/truetype/humor-sans: caching, new cache contents: 1 fonts, 0 dirs\n",
            "/usr/share/fonts/truetype/liberation: caching, new cache contents: 16 fonts, 0 dirs\n",
            "/usr/share/fonts/truetype/nanum: caching, new cache contents: 10 fonts, 0 dirs\n",
            "/usr/local/share/fonts: caching, new cache contents: 0 fonts, 0 dirs\n",
            "/root/.local/share/fonts: skipping, no such directory\n",
            "/root/.fonts: skipping, no such directory\n",
            "/var/cache/fontconfig: cleaning cache directory\n",
            "/root/.cache/fontconfig: not cleaning non-existent cache directory\n",
            "/root/.fontconfig: not cleaning non-existent cache directory\n",
            "fc-cache: succeeded\n"
          ]
        }
      ],
      "source": [
        "from matplotlib import pyplot as plt\n",
        "import pandas as pd\n",
        "from pandas import Series, DataFrame\n",
        "import numpy as np\n",
        "from matplotlib import pyplot as plt\n",
        "%matplotlib inline\n",
        "\n",
        "import seaborn as sns\n",
        "sns.set()\n",
        "from matplotlib import pyplot as plt\n",
        "%matplotlib inline\n",
        "\n",
        "import matplotlib.font_manager as fm\n",
        "!sudo apt-get install -y fonts-nanum #Isudo = super user do\n",
        "!sudo fc-cache -fv\n",
        "!rm ~/.cache/matplotlib -rf\n",
        "plt.rc('font', family='NanumBarunGothic') "
      ]
    },
    {
      "cell_type": "code",
      "source": [
        "#구글드라이브 연결\n",
        "from google.colab import drive\n",
        "drive.mount('/content/drive')"
      ],
      "metadata": {
        "colab": {
          "base_uri": "https://localhost:8080/"
        },
        "id": "najV33D0FIAm",
        "outputId": "38a14fd4-3aeb-4ad1-bf2c-3e44b27ea153"
      },
      "execution_count": 3,
      "outputs": [
        {
          "output_type": "stream",
          "name": "stdout",
          "text": [
            "Drive already mounted at /content/drive; to attempt to forcibly remount, call drive.mount(\"/content/drive\", force_remount=True).\n"
          ]
        }
      ]
    },
    {
      "cell_type": "code",
      "source": [
        "#파일불러오기\n",
        "hdata = pd.read_csv('/content/drive/MyDrive/Colab Notebooks/IT와비즈니스혁신/data/h_d.csv')"
      ],
      "metadata": {
        "id": "hn-0Yjx0FJu9"
      },
      "execution_count": 4,
      "outputs": []
    },
    {
      "cell_type": "markdown",
      "source": [
        "엑셀로 결측치 확인 결과: 총콜레스테롤, 트리글리세라이드, HDL콜레스테롤, LDL콜레스테롤, 치아유식증유무, 치석은 결측치가 60% 이상임\n",
        "(시각화 자료로 사용하지 않을 예정)\n"
      ],
      "metadata": {
        "id": "JGhT0PHDFLpU"
      }
    },
    {
      "cell_type": "code",
      "source": [
        "# 데이터 컬럼 정보\n",
        "hdata.info()"
      ],
      "metadata": {
        "colab": {
          "base_uri": "https://localhost:8080/"
        },
        "id": "T_8S6quaFMZt",
        "outputId": "eb8d6639-fb8b-43ae-b3fa-9dca39e9f996"
      },
      "execution_count": 5,
      "outputs": [
        {
          "output_type": "stream",
          "name": "stdout",
          "text": [
            "<class 'pandas.core.frame.DataFrame'>\n",
            "RangeIndex: 10000 entries, 0 to 9999\n",
            "Data columns (total 31 columns):\n",
            " #   Column       Non-Null Count  Dtype  \n",
            "---  ------       --------------  -----  \n",
            " 0   기준년도         10000 non-null  int64  \n",
            " 1   가입자일련번호      10000 non-null  int64  \n",
            " 2   시도코드         10000 non-null  int64  \n",
            " 3   성별코드         10000 non-null  object \n",
            " 4   연령대코드(5세단위)  10000 non-null  int64  \n",
            " 5   신장(5Cm단위)    10000 non-null  int64  \n",
            " 6   체중(5Kg 단위)   10000 non-null  int64  \n",
            " 7   허리둘레         10000 non-null  float64\n",
            " 8   시력(좌)        10000 non-null  float64\n",
            " 9   시력(우)        10000 non-null  float64\n",
            " 10  청력(좌)        10000 non-null  int64  \n",
            " 11  청력(우)        10000 non-null  int64  \n",
            " 12  수축기혈압        9912 non-null   float64\n",
            " 13  이완기혈압        9912 non-null   float64\n",
            " 14  식전혈당(공복혈당)   9912 non-null   float64\n",
            " 15  총콜레스테롤       4044 non-null   float64\n",
            " 16  트리글리세라이드     4044 non-null   float64\n",
            " 17  HDL콜레스테롤     4044 non-null   float64\n",
            " 18  LDL콜레스테롤     3977 non-null   float64\n",
            " 19  혈색소          9912 non-null   float64\n",
            " 20  요단백          9861 non-null   float64\n",
            " 21  혈청크레아티닌      9912 non-null   float64\n",
            " 22  (혈청지오티)AST   9912 non-null   float64\n",
            " 23  (혈청지오티)ALT   9912 non-null   float64\n",
            " 24  감마지티피        9912 non-null   float64\n",
            " 25  흡연상태         9998 non-null   object \n",
            " 26  음주여부         9999 non-null   object \n",
            " 27  구강검진수검여부     10000 non-null  int64  \n",
            " 28  치아우식증유무      3251 non-null   float64\n",
            " 29  치석           3251 non-null   float64\n",
            " 30  데이터공개일자      10000 non-null  object \n",
            "dtypes: float64(18), int64(9), object(4)\n",
            "memory usage: 2.4+ MB\n"
          ]
        }
      ]
    },
    {
      "cell_type": "code",
      "source": [
        "hdata"
      ],
      "metadata": {
        "colab": {
          "base_uri": "https://localhost:8080/",
          "height": 589
        },
        "id": "lNT1EITYip3U",
        "outputId": "801412a3-a497-4e8c-f570-f6c94b87520a"
      },
      "execution_count": 6,
      "outputs": [
        {
          "output_type": "execute_result",
          "data": {
            "text/plain": [
              "      기준년도  가입자일련번호  시도코드 성별코드  연령대코드(5세단위)  신장(5Cm단위)  체중(5Kg 단위)   허리둘레  \\\n",
              "0     2020        1    36    M            9        165          60   72.1   \n",
              "1     2020        2    27    F           13        150          65   81.0   \n",
              "2     2020        3    11    F           12        155          55   70.0   \n",
              "3     2020        4    31    M           13        160          70   90.8   \n",
              "4     2020        5    41    F           12        155          50   75.2   \n",
              "...    ...      ...   ...  ...          ...        ...         ...    ...   \n",
              "9995  2020     9996    44    F           13        155          55   83.0   \n",
              "9996  2020     9997    43    F           11        160          55   77.5   \n",
              "9997  2020     9998    45    M           12        160          80   93.0   \n",
              "9998  2020     9999    27    F           15        155          55   78.0   \n",
              "9999  2020    10000    45    F           13        160          75  100.0   \n",
              "\n",
              "      시력(좌)  시력(우)  ...  혈청크레아티닌  (혈청지오티)AST  (혈청지오티)ALT  감마지티피    흡연상태  음주여부  \\\n",
              "0       1.2    1.5  ...      1.1        21.0        27.0   21.0      No    No   \n",
              "1       0.8    0.8  ...      0.5        18.0        15.0   15.0      No    No   \n",
              "2       0.6    0.7  ...      0.7        27.0        25.0    7.0      No    No   \n",
              "3       1.0    1.0  ...      1.2        65.0        97.0   72.0      No    No   \n",
              "4       1.5    1.2  ...      0.7        18.0        17.0   14.0      No    No   \n",
              "...     ...    ...  ...      ...         ...         ...    ...     ...   ...   \n",
              "9995    1.2    1.2  ...      0.7        20.0        21.0   20.0      No   Yes   \n",
              "9996    1.0    1.2  ...      0.7        24.0        22.0   21.0      No   Yes   \n",
              "9997    0.6    0.6  ...      1.0        22.0        27.0   35.0      No    No   \n",
              "9998    0.6    1.0  ...      1.0        26.0        24.0   21.0      No    No   \n",
              "9999    0.5    0.5  ...      0.6        32.0        24.0   30.0  NotNow   Yes   \n",
              "\n",
              "      구강검진수검여부  치아우식증유무   치석     데이터공개일자  \n",
              "0            0      NaN  NaN  12/29/2021  \n",
              "1            0      NaN  NaN  12/29/2021  \n",
              "2            0      NaN  NaN  12/29/2021  \n",
              "3            1      0.0  0.0  12/29/2021  \n",
              "4            0      NaN  NaN  12/29/2021  \n",
              "...        ...      ...  ...         ...  \n",
              "9995         0      NaN  NaN  12/29/2021  \n",
              "9996         1      0.0  0.0  12/29/2021  \n",
              "9997         0      NaN  NaN  12/29/2021  \n",
              "9998         0      NaN  NaN  12/29/2021  \n",
              "9999         0      NaN  NaN  12/29/2021  \n",
              "\n",
              "[10000 rows x 31 columns]"
            ],
            "text/html": [
              "\n",
              "  <div id=\"df-8b9359bd-e16a-42b3-8dcb-01dc9f32e746\">\n",
              "    <div class=\"colab-df-container\">\n",
              "      <div>\n",
              "<style scoped>\n",
              "    .dataframe tbody tr th:only-of-type {\n",
              "        vertical-align: middle;\n",
              "    }\n",
              "\n",
              "    .dataframe tbody tr th {\n",
              "        vertical-align: top;\n",
              "    }\n",
              "\n",
              "    .dataframe thead th {\n",
              "        text-align: right;\n",
              "    }\n",
              "</style>\n",
              "<table border=\"1\" class=\"dataframe\">\n",
              "  <thead>\n",
              "    <tr style=\"text-align: right;\">\n",
              "      <th></th>\n",
              "      <th>기준년도</th>\n",
              "      <th>가입자일련번호</th>\n",
              "      <th>시도코드</th>\n",
              "      <th>성별코드</th>\n",
              "      <th>연령대코드(5세단위)</th>\n",
              "      <th>신장(5Cm단위)</th>\n",
              "      <th>체중(5Kg 단위)</th>\n",
              "      <th>허리둘레</th>\n",
              "      <th>시력(좌)</th>\n",
              "      <th>시력(우)</th>\n",
              "      <th>...</th>\n",
              "      <th>혈청크레아티닌</th>\n",
              "      <th>(혈청지오티)AST</th>\n",
              "      <th>(혈청지오티)ALT</th>\n",
              "      <th>감마지티피</th>\n",
              "      <th>흡연상태</th>\n",
              "      <th>음주여부</th>\n",
              "      <th>구강검진수검여부</th>\n",
              "      <th>치아우식증유무</th>\n",
              "      <th>치석</th>\n",
              "      <th>데이터공개일자</th>\n",
              "    </tr>\n",
              "  </thead>\n",
              "  <tbody>\n",
              "    <tr>\n",
              "      <th>0</th>\n",
              "      <td>2020</td>\n",
              "      <td>1</td>\n",
              "      <td>36</td>\n",
              "      <td>M</td>\n",
              "      <td>9</td>\n",
              "      <td>165</td>\n",
              "      <td>60</td>\n",
              "      <td>72.1</td>\n",
              "      <td>1.2</td>\n",
              "      <td>1.5</td>\n",
              "      <td>...</td>\n",
              "      <td>1.1</td>\n",
              "      <td>21.0</td>\n",
              "      <td>27.0</td>\n",
              "      <td>21.0</td>\n",
              "      <td>No</td>\n",
              "      <td>No</td>\n",
              "      <td>0</td>\n",
              "      <td>NaN</td>\n",
              "      <td>NaN</td>\n",
              "      <td>12/29/2021</td>\n",
              "    </tr>\n",
              "    <tr>\n",
              "      <th>1</th>\n",
              "      <td>2020</td>\n",
              "      <td>2</td>\n",
              "      <td>27</td>\n",
              "      <td>F</td>\n",
              "      <td>13</td>\n",
              "      <td>150</td>\n",
              "      <td>65</td>\n",
              "      <td>81.0</td>\n",
              "      <td>0.8</td>\n",
              "      <td>0.8</td>\n",
              "      <td>...</td>\n",
              "      <td>0.5</td>\n",
              "      <td>18.0</td>\n",
              "      <td>15.0</td>\n",
              "      <td>15.0</td>\n",
              "      <td>No</td>\n",
              "      <td>No</td>\n",
              "      <td>0</td>\n",
              "      <td>NaN</td>\n",
              "      <td>NaN</td>\n",
              "      <td>12/29/2021</td>\n",
              "    </tr>\n",
              "    <tr>\n",
              "      <th>2</th>\n",
              "      <td>2020</td>\n",
              "      <td>3</td>\n",
              "      <td>11</td>\n",
              "      <td>F</td>\n",
              "      <td>12</td>\n",
              "      <td>155</td>\n",
              "      <td>55</td>\n",
              "      <td>70.0</td>\n",
              "      <td>0.6</td>\n",
              "      <td>0.7</td>\n",
              "      <td>...</td>\n",
              "      <td>0.7</td>\n",
              "      <td>27.0</td>\n",
              "      <td>25.0</td>\n",
              "      <td>7.0</td>\n",
              "      <td>No</td>\n",
              "      <td>No</td>\n",
              "      <td>0</td>\n",
              "      <td>NaN</td>\n",
              "      <td>NaN</td>\n",
              "      <td>12/29/2021</td>\n",
              "    </tr>\n",
              "    <tr>\n",
              "      <th>3</th>\n",
              "      <td>2020</td>\n",
              "      <td>4</td>\n",
              "      <td>31</td>\n",
              "      <td>M</td>\n",
              "      <td>13</td>\n",
              "      <td>160</td>\n",
              "      <td>70</td>\n",
              "      <td>90.8</td>\n",
              "      <td>1.0</td>\n",
              "      <td>1.0</td>\n",
              "      <td>...</td>\n",
              "      <td>1.2</td>\n",
              "      <td>65.0</td>\n",
              "      <td>97.0</td>\n",
              "      <td>72.0</td>\n",
              "      <td>No</td>\n",
              "      <td>No</td>\n",
              "      <td>1</td>\n",
              "      <td>0.0</td>\n",
              "      <td>0.0</td>\n",
              "      <td>12/29/2021</td>\n",
              "    </tr>\n",
              "    <tr>\n",
              "      <th>4</th>\n",
              "      <td>2020</td>\n",
              "      <td>5</td>\n",
              "      <td>41</td>\n",
              "      <td>F</td>\n",
              "      <td>12</td>\n",
              "      <td>155</td>\n",
              "      <td>50</td>\n",
              "      <td>75.2</td>\n",
              "      <td>1.5</td>\n",
              "      <td>1.2</td>\n",
              "      <td>...</td>\n",
              "      <td>0.7</td>\n",
              "      <td>18.0</td>\n",
              "      <td>17.0</td>\n",
              "      <td>14.0</td>\n",
              "      <td>No</td>\n",
              "      <td>No</td>\n",
              "      <td>0</td>\n",
              "      <td>NaN</td>\n",
              "      <td>NaN</td>\n",
              "      <td>12/29/2021</td>\n",
              "    </tr>\n",
              "    <tr>\n",
              "      <th>...</th>\n",
              "      <td>...</td>\n",
              "      <td>...</td>\n",
              "      <td>...</td>\n",
              "      <td>...</td>\n",
              "      <td>...</td>\n",
              "      <td>...</td>\n",
              "      <td>...</td>\n",
              "      <td>...</td>\n",
              "      <td>...</td>\n",
              "      <td>...</td>\n",
              "      <td>...</td>\n",
              "      <td>...</td>\n",
              "      <td>...</td>\n",
              "      <td>...</td>\n",
              "      <td>...</td>\n",
              "      <td>...</td>\n",
              "      <td>...</td>\n",
              "      <td>...</td>\n",
              "      <td>...</td>\n",
              "      <td>...</td>\n",
              "      <td>...</td>\n",
              "    </tr>\n",
              "    <tr>\n",
              "      <th>9995</th>\n",
              "      <td>2020</td>\n",
              "      <td>9996</td>\n",
              "      <td>44</td>\n",
              "      <td>F</td>\n",
              "      <td>13</td>\n",
              "      <td>155</td>\n",
              "      <td>55</td>\n",
              "      <td>83.0</td>\n",
              "      <td>1.2</td>\n",
              "      <td>1.2</td>\n",
              "      <td>...</td>\n",
              "      <td>0.7</td>\n",
              "      <td>20.0</td>\n",
              "      <td>21.0</td>\n",
              "      <td>20.0</td>\n",
              "      <td>No</td>\n",
              "      <td>Yes</td>\n",
              "      <td>0</td>\n",
              "      <td>NaN</td>\n",
              "      <td>NaN</td>\n",
              "      <td>12/29/2021</td>\n",
              "    </tr>\n",
              "    <tr>\n",
              "      <th>9996</th>\n",
              "      <td>2020</td>\n",
              "      <td>9997</td>\n",
              "      <td>43</td>\n",
              "      <td>F</td>\n",
              "      <td>11</td>\n",
              "      <td>160</td>\n",
              "      <td>55</td>\n",
              "      <td>77.5</td>\n",
              "      <td>1.0</td>\n",
              "      <td>1.2</td>\n",
              "      <td>...</td>\n",
              "      <td>0.7</td>\n",
              "      <td>24.0</td>\n",
              "      <td>22.0</td>\n",
              "      <td>21.0</td>\n",
              "      <td>No</td>\n",
              "      <td>Yes</td>\n",
              "      <td>1</td>\n",
              "      <td>0.0</td>\n",
              "      <td>0.0</td>\n",
              "      <td>12/29/2021</td>\n",
              "    </tr>\n",
              "    <tr>\n",
              "      <th>9997</th>\n",
              "      <td>2020</td>\n",
              "      <td>9998</td>\n",
              "      <td>45</td>\n",
              "      <td>M</td>\n",
              "      <td>12</td>\n",
              "      <td>160</td>\n",
              "      <td>80</td>\n",
              "      <td>93.0</td>\n",
              "      <td>0.6</td>\n",
              "      <td>0.6</td>\n",
              "      <td>...</td>\n",
              "      <td>1.0</td>\n",
              "      <td>22.0</td>\n",
              "      <td>27.0</td>\n",
              "      <td>35.0</td>\n",
              "      <td>No</td>\n",
              "      <td>No</td>\n",
              "      <td>0</td>\n",
              "      <td>NaN</td>\n",
              "      <td>NaN</td>\n",
              "      <td>12/29/2021</td>\n",
              "    </tr>\n",
              "    <tr>\n",
              "      <th>9998</th>\n",
              "      <td>2020</td>\n",
              "      <td>9999</td>\n",
              "      <td>27</td>\n",
              "      <td>F</td>\n",
              "      <td>15</td>\n",
              "      <td>155</td>\n",
              "      <td>55</td>\n",
              "      <td>78.0</td>\n",
              "      <td>0.6</td>\n",
              "      <td>1.0</td>\n",
              "      <td>...</td>\n",
              "      <td>1.0</td>\n",
              "      <td>26.0</td>\n",
              "      <td>24.0</td>\n",
              "      <td>21.0</td>\n",
              "      <td>No</td>\n",
              "      <td>No</td>\n",
              "      <td>0</td>\n",
              "      <td>NaN</td>\n",
              "      <td>NaN</td>\n",
              "      <td>12/29/2021</td>\n",
              "    </tr>\n",
              "    <tr>\n",
              "      <th>9999</th>\n",
              "      <td>2020</td>\n",
              "      <td>10000</td>\n",
              "      <td>45</td>\n",
              "      <td>F</td>\n",
              "      <td>13</td>\n",
              "      <td>160</td>\n",
              "      <td>75</td>\n",
              "      <td>100.0</td>\n",
              "      <td>0.5</td>\n",
              "      <td>0.5</td>\n",
              "      <td>...</td>\n",
              "      <td>0.6</td>\n",
              "      <td>32.0</td>\n",
              "      <td>24.0</td>\n",
              "      <td>30.0</td>\n",
              "      <td>NotNow</td>\n",
              "      <td>Yes</td>\n",
              "      <td>0</td>\n",
              "      <td>NaN</td>\n",
              "      <td>NaN</td>\n",
              "      <td>12/29/2021</td>\n",
              "    </tr>\n",
              "  </tbody>\n",
              "</table>\n",
              "<p>10000 rows × 31 columns</p>\n",
              "</div>\n",
              "      <button class=\"colab-df-convert\" onclick=\"convertToInteractive('df-8b9359bd-e16a-42b3-8dcb-01dc9f32e746')\"\n",
              "              title=\"Convert this dataframe to an interactive table.\"\n",
              "              style=\"display:none;\">\n",
              "        \n",
              "  <svg xmlns=\"http://www.w3.org/2000/svg\" height=\"24px\"viewBox=\"0 0 24 24\"\n",
              "       width=\"24px\">\n",
              "    <path d=\"M0 0h24v24H0V0z\" fill=\"none\"/>\n",
              "    <path d=\"M18.56 5.44l.94 2.06.94-2.06 2.06-.94-2.06-.94-.94-2.06-.94 2.06-2.06.94zm-11 1L8.5 8.5l.94-2.06 2.06-.94-2.06-.94L8.5 2.5l-.94 2.06-2.06.94zm10 10l.94 2.06.94-2.06 2.06-.94-2.06-.94-.94-2.06-.94 2.06-2.06.94z\"/><path d=\"M17.41 7.96l-1.37-1.37c-.4-.4-.92-.59-1.43-.59-.52 0-1.04.2-1.43.59L10.3 9.45l-7.72 7.72c-.78.78-.78 2.05 0 2.83L4 21.41c.39.39.9.59 1.41.59.51 0 1.02-.2 1.41-.59l7.78-7.78 2.81-2.81c.8-.78.8-2.07 0-2.86zM5.41 20L4 18.59l7.72-7.72 1.47 1.35L5.41 20z\"/>\n",
              "  </svg>\n",
              "      </button>\n",
              "      \n",
              "  <style>\n",
              "    .colab-df-container {\n",
              "      display:flex;\n",
              "      flex-wrap:wrap;\n",
              "      gap: 12px;\n",
              "    }\n",
              "\n",
              "    .colab-df-convert {\n",
              "      background-color: #E8F0FE;\n",
              "      border: none;\n",
              "      border-radius: 50%;\n",
              "      cursor: pointer;\n",
              "      display: none;\n",
              "      fill: #1967D2;\n",
              "      height: 32px;\n",
              "      padding: 0 0 0 0;\n",
              "      width: 32px;\n",
              "    }\n",
              "\n",
              "    .colab-df-convert:hover {\n",
              "      background-color: #E2EBFA;\n",
              "      box-shadow: 0px 1px 2px rgba(60, 64, 67, 0.3), 0px 1px 3px 1px rgba(60, 64, 67, 0.15);\n",
              "      fill: #174EA6;\n",
              "    }\n",
              "\n",
              "    [theme=dark] .colab-df-convert {\n",
              "      background-color: #3B4455;\n",
              "      fill: #D2E3FC;\n",
              "    }\n",
              "\n",
              "    [theme=dark] .colab-df-convert:hover {\n",
              "      background-color: #434B5C;\n",
              "      box-shadow: 0px 1px 3px 1px rgba(0, 0, 0, 0.15);\n",
              "      filter: drop-shadow(0px 1px 2px rgba(0, 0, 0, 0.3));\n",
              "      fill: #FFFFFF;\n",
              "    }\n",
              "  </style>\n",
              "\n",
              "      <script>\n",
              "        const buttonEl =\n",
              "          document.querySelector('#df-8b9359bd-e16a-42b3-8dcb-01dc9f32e746 button.colab-df-convert');\n",
              "        buttonEl.style.display =\n",
              "          google.colab.kernel.accessAllowed ? 'block' : 'none';\n",
              "\n",
              "        async function convertToInteractive(key) {\n",
              "          const element = document.querySelector('#df-8b9359bd-e16a-42b3-8dcb-01dc9f32e746');\n",
              "          const dataTable =\n",
              "            await google.colab.kernel.invokeFunction('convertToInteractive',\n",
              "                                                     [key], {});\n",
              "          if (!dataTable) return;\n",
              "\n",
              "          const docLinkHtml = 'Like what you see? Visit the ' +\n",
              "            '<a target=\"_blank\" href=https://colab.research.google.com/notebooks/data_table.ipynb>data table notebook</a>'\n",
              "            + ' to learn more about interactive tables.';\n",
              "          element.innerHTML = '';\n",
              "          dataTable['output_type'] = 'display_data';\n",
              "          await google.colab.output.renderOutput(dataTable, element);\n",
              "          const docLink = document.createElement('div');\n",
              "          docLink.innerHTML = docLinkHtml;\n",
              "          element.appendChild(docLink);\n",
              "        }\n",
              "      </script>\n",
              "    </div>\n",
              "  </div>\n",
              "  "
            ]
          },
          "metadata": {},
          "execution_count": 6
        }
      ]
    },
    {
      "cell_type": "code",
      "source": [
        "#category로 척도 변경\n",
        "hdata['성별코드'] = hdata['성별코드'].astype('category')\n",
        "hdata['음주여부'] = hdata['음주여부'].astype('category')"
      ],
      "metadata": {
        "id": "VjPwoacIjhw7"
      },
      "execution_count": 7,
      "outputs": []
    },
    {
      "cell_type": "code",
      "source": [
        "hdata.info()"
      ],
      "metadata": {
        "colab": {
          "base_uri": "https://localhost:8080/"
        },
        "id": "-Mto2tvlj4f4",
        "outputId": "b121e241-029d-47f9-8f6a-e0016fd7da34"
      },
      "execution_count": 8,
      "outputs": [
        {
          "output_type": "stream",
          "name": "stdout",
          "text": [
            "<class 'pandas.core.frame.DataFrame'>\n",
            "RangeIndex: 10000 entries, 0 to 9999\n",
            "Data columns (total 31 columns):\n",
            " #   Column       Non-Null Count  Dtype   \n",
            "---  ------       --------------  -----   \n",
            " 0   기준년도         10000 non-null  int64   \n",
            " 1   가입자일련번호      10000 non-null  int64   \n",
            " 2   시도코드         10000 non-null  int64   \n",
            " 3   성별코드         10000 non-null  category\n",
            " 4   연령대코드(5세단위)  10000 non-null  int64   \n",
            " 5   신장(5Cm단위)    10000 non-null  int64   \n",
            " 6   체중(5Kg 단위)   10000 non-null  int64   \n",
            " 7   허리둘레         10000 non-null  float64 \n",
            " 8   시력(좌)        10000 non-null  float64 \n",
            " 9   시력(우)        10000 non-null  float64 \n",
            " 10  청력(좌)        10000 non-null  int64   \n",
            " 11  청력(우)        10000 non-null  int64   \n",
            " 12  수축기혈압        9912 non-null   float64 \n",
            " 13  이완기혈압        9912 non-null   float64 \n",
            " 14  식전혈당(공복혈당)   9912 non-null   float64 \n",
            " 15  총콜레스테롤       4044 non-null   float64 \n",
            " 16  트리글리세라이드     4044 non-null   float64 \n",
            " 17  HDL콜레스테롤     4044 non-null   float64 \n",
            " 18  LDL콜레스테롤     3977 non-null   float64 \n",
            " 19  혈색소          9912 non-null   float64 \n",
            " 20  요단백          9861 non-null   float64 \n",
            " 21  혈청크레아티닌      9912 non-null   float64 \n",
            " 22  (혈청지오티)AST   9912 non-null   float64 \n",
            " 23  (혈청지오티)ALT   9912 non-null   float64 \n",
            " 24  감마지티피        9912 non-null   float64 \n",
            " 25  흡연상태         9998 non-null   object  \n",
            " 26  음주여부         9999 non-null   category\n",
            " 27  구강검진수검여부     10000 non-null  int64   \n",
            " 28  치아우식증유무      3251 non-null   float64 \n",
            " 29  치석           3251 non-null   float64 \n",
            " 30  데이터공개일자      10000 non-null  object  \n",
            "dtypes: category(2), float64(18), int64(9), object(2)\n",
            "memory usage: 2.2+ MB\n"
          ]
        }
      ]
    },
    {
      "cell_type": "markdown",
      "source": [
        "#시각화_1"
      ],
      "metadata": {
        "id": "MFkvYqH7FetJ"
      }
    },
    {
      "cell_type": "code",
      "source": [
        "plt.figure(figsize=(10,6))\n",
        "plt.title('연령대별 체중')\n",
        "plt.scatter(hdata['연령대코드(5세단위)'], hdata['체중(5Kg 단위)'], c = 'red', alpha = 0.4)\n",
        "plt.xlabel('연령대(5세 단위)', size = 12)\n",
        "plt.ylabel('체중(5kg 단위)', size = 12)\n",
        "plt.show()\n"
      ],
      "metadata": {
        "colab": {
          "base_uri": "https://localhost:8080/",
          "height": 410
        },
        "id": "tHXXvFwMFSJm",
        "outputId": "2814f95a-3f1a-40b9-aeac-76afa6f8170c"
      },
      "execution_count": 9,
      "outputs": [
        {
          "output_type": "display_data",
          "data": {
            "text/plain": [
              "<Figure size 720x432 with 1 Axes>"
            ],
            "image/png": "[encoded data removed]"
          },
          "metadata": {
            "needs_background": "light"
          }
        }
      ]
    },
    {
      "cell_type": "markdown",
      "source": [
        "![연령대코드.jpg](data:image/jpeg;base64,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)\n",
        "\n",
        "* 80세 이상은 100kg 넘어가는 사람이 없다.\n",
        "* 70세 이후부터는 대게 체중이 감소하는 추세를 보인다."
      ],
      "metadata": {
        "id": "92PLl5_9F-H_"
      }
    },
    {
      "cell_type": "markdown",
      "source": [
        "#시각화_2"
      ],
      "metadata": {
        "id": "fHVlNF-dHL5S"
      }
    },
    {
      "cell_type": "code",
      "source": [
        "sns.displot(data=hdata, x=\"식전혈당(공복혈당)\", hue=\"성별코드\", label=\"sex\")\n",
        "plt.title(\"남녀별 공복혈당\");\n",
        "plt.xlabel(\"공복혈당 수치\")"
      ],
      "metadata": {
        "colab": {
          "base_uri": "https://localhost:8080/",
          "height": 403
        },
        "id": "_1lTZ5KApLzm",
        "outputId": "d762f04c-23e8-4b9d-93f7-f3b614c1cb61"
      },
      "execution_count": 10,
      "outputs": [
        {
          "output_type": "execute_result",
          "data": {
            "text/plain": [
              "Text(0.5, 6.800000000000011, '공복혈당 수치')"
            ]
          },
          "metadata": {},
          "execution_count": 10
        },
        {
          "output_type": "display_data",
          "data": {
            "text/plain": [
              "<Figure size 411.8x360 with 1 Axes>"
            ],
            "image/png": "[encoded data removed]"
          },
          "metadata": {
            "needs_background": "light"
          }
        }
      ]
    },
    {
      "cell_type": "markdown",
      "source": [
        "남녀별 공복혈당 수치 비교 결과\n",
        "* 공복혈당 수치가 높은 남성이 많다. (오른쪽으로 갈수록 M 주황색이 많은 것을 확인할 수 있음)"
      ],
      "metadata": {
        "id": "rAYewotlyFiP"
      }
    },
    {
      "cell_type": "markdown",
      "source": [
        "#시각화_3"
      ],
      "metadata": {
        "id": "nVqV0cGwVJPw"
      }
    },
    {
      "cell_type": "code",
      "source": [
        "sns.boxplot(data=hdata, x='음주여부', y='감마지티피', hue='성별코드');\n",
        "plt.title('음주여부별 남녀별 감마지티피의 Box Plot');"
      ],
      "metadata": {
        "colab": {
          "base_uri": "https://localhost:8080/",
          "height": 301
        },
        "id": "wqsd2A6FbKcD",
        "outputId": "7b3e2524-520e-4137-8cc2-394668b4f137"
      },
      "execution_count": 30,
      "outputs": [
        {
          "output_type": "display_data",
          "data": {
            "text/plain": [
              "<Figure size 432x288 with 1 Axes>"
            ],
            "image/png": "[encoded data removed]"
          },
          "metadata": {
            "needs_background": "light"
          }
        }
      ]
    },
    {
      "cell_type": "markdown",
      "source": [
        "감마지티피 정상치 남성 11 ~ 63IU/L, 여성 8 ~ 35IU/L\n",
        "/ 상기 Box Plot은 이상치가 있어 시각화 작업이 어려움\n",
        "이상치 제거하고자 함"
      ],
      "metadata": {
        "id": "cjPjHTy3cr3m"
      }
    },
    {
      "cell_type": "markdown",
      "source": [
        "이상치 제거"
      ],
      "metadata": {
        "id": "UtnUWCFTfvxm"
      }
    },
    {
      "cell_type": "code",
      "source": [
        "q3 = hdata['감마지티피'].quantile(0.75) #df['국어'].quantile(0.75) 처럼 특정 열만 적용 가능\n",
        "q1 = hdata['감마지티피'].quantile(0.25)\n",
        "\n",
        "iqr = q3 - q1"
      ],
      "metadata": {
        "id": "440XjqJPcNX8"
      },
      "execution_count": 19,
      "outputs": []
    },
    {
      "cell_type": "code",
      "source": [
        "q3"
      ],
      "metadata": {
        "colab": {
          "base_uri": "https://localhost:8080/"
        },
        "id": "_Ndp2fccek1e",
        "outputId": "ecaa7ed2-ffc6-4bd3-f729-32bc768c4145"
      },
      "execution_count": 21,
      "outputs": [
        {
          "output_type": "execute_result",
          "data": {
            "text/plain": [
              "39.0"
            ]
          },
          "metadata": {},
          "execution_count": 21
        }
      ]
    },
    {
      "cell_type": "code",
      "source": [
        "# '국어' 열에 대하여 이상치 여부를 판별해주는 함수\n",
        "def is_kor_outlier(hdata):\n",
        "    kor_score = hdata['감마지티피']\n",
        "    if kor_score > q3 + 1.5 * iqr or kor_score < q1 - 1.5 * iqr:\n",
        "        return True\n",
        "    else:\n",
        "        return False\n",
        "\n",
        "# apply 함수를 통하여 각 값의 이상치 여부를 찾고 새로운 열에 결과 저장\n",
        "hdata['감마지티피_이상치여부'] = hdata.apply(is_kor_outlier, axis = 1) # axis = 1 지정 필수\n"
      ],
      "metadata": {
        "id": "QY986cIXdYVX"
      },
      "execution_count": 31,
      "outputs": []
    },
    {
      "cell_type": "code",
      "source": [
        "# 이상치인 행은 제거하여 필터링\n",
        "hdata_trim = hdata.loc[hdata['감마지티피_이상치여부'] == False]\n",
        "\n",
        "# 이상치여부를 나타내는 열 제거\n",
        "del hdata_trim['감마지티피_이상치여부']"
      ],
      "metadata": {
        "id": "TOtGFnwpes8l"
      },
      "execution_count": 32,
      "outputs": []
    },
    {
      "cell_type": "markdown",
      "source": [
        "#시각화_3(이상치 제거 버전)"
      ],
      "metadata": {
        "id": "XK7PsZL6e5LH"
      }
    },
    {
      "cell_type": "code",
      "source": [
        "sns.boxplot(data=hdata_trim, x='음주여부', y='감마지티피', hue='성별코드');\n",
        "plt.title('음주여부별 남녀별 감마지티피의 Box Plot');"
      ],
      "metadata": {
        "colab": {
          "base_uri": "https://localhost:8080/",
          "height": 301
        },
        "id": "Q81XV8jbfcdC",
        "outputId": "03e4be37-2ce0-44a8-b28b-b8a7c2f04eaf"
      },
      "execution_count": 29,
      "outputs": [
        {
          "output_type": "display_data",
          "data": {
            "text/plain": [
              "<Figure size 432x288 with 1 Axes>"
            ],
            "image/png": "[encoded data removed]"
          },
          "metadata": {
            "needs_background": "light"
          }
        }
      ]
    },
    {
      "cell_type": "markdown",
      "source": [
        "음주여부별 남녀별 감마지티피의 Box Plot 결과\n",
        "(감마지티피 정상치 남성 11 ~ 63IU/L, 여성 8 ~ 35IU/L)\n",
        "* 남성의 경우, 음주여부에 따라 감마지티피 수치 차이가 꽤 많이 난다."
      ],
      "metadata": {
        "id": "AaNu1Hv-fpHj"
      }
    }
  ]
}